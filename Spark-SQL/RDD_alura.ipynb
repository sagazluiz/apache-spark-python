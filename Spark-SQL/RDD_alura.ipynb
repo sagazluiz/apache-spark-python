{
  "nbformat": 4,
  "nbformat_minor": 0,
  "metadata": {
    "colab": {
      "provenance": [],
      "toc_visible": true
    },
    "kernelspec": {
      "name": "python3",
      "display_name": "Python 3"
    },
    "language_info": {
      "name": "python"
    }
  },
  "cells": [
    {
      "cell_type": "markdown",
      "source": [
        "#Instalando pyspark no Colab"
      ],
      "metadata": {
        "id": "FfzkzwyMlAU_"
      }
    },
    {
      "cell_type": "code",
      "source": [
        "!pip install pyspark"
      ],
      "metadata": {
        "id": "zbSZ2osggKG6",
        "colab": {
          "base_uri": "https://localhost:8080/"
        },
        "outputId": "a10d4010-91f3-4e9c-f878-f1d321902e97"
      },
      "execution_count": 1,
      "outputs": [
        {
          "output_type": "stream",
          "name": "stdout",
          "text": [
            "Looking in indexes: https://pypi.org/simple, https://us-python.pkg.dev/colab-wheels/public/simple/\n",
            "Collecting pyspark\n",
            "  Downloading pyspark-3.4.0.tar.gz (310.8 MB)\n",
            "\u001b[2K     \u001b[90m━━━━━━━━━━━━━━━━━━━━━━━━━━━━━━━━━━━━━━━\u001b[0m \u001b[32m310.8/310.8 MB\u001b[0m \u001b[31m4.2 MB/s\u001b[0m eta \u001b[36m0:00:00\u001b[0m\n",
            "\u001b[?25h  Preparing metadata (setup.py) ... \u001b[?25l\u001b[?25hdone\n",
            "Requirement already satisfied: py4j==0.10.9.7 in /usr/local/lib/python3.10/dist-packages (from pyspark) (0.10.9.7)\n",
            "Building wheels for collected packages: pyspark\n",
            "  Building wheel for pyspark (setup.py) ... \u001b[?25l\u001b[?25hdone\n",
            "  Created wheel for pyspark: filename=pyspark-3.4.0-py2.py3-none-any.whl size=311317130 sha256=af7b2e09ad7fd4870f931ba8e1c98ced10043e28f7e4bb4dd056e68a8bbae4df\n",
            "  Stored in directory: /root/.cache/pip/wheels/7b/1b/4b/3363a1d04368e7ff0d408e57ff57966fcdf00583774e761327\n",
            "Successfully built pyspark\n",
            "Installing collected packages: pyspark\n",
            "Successfully installed pyspark-3.4.0\n"
          ]
        }
      ]
    },
    {
      "cell_type": "markdown",
      "source": [
        "#Importando o SparkContext"
      ],
      "metadata": {
        "id": "w60Q8n6blFIb"
      }
    },
    {
      "cell_type": "code",
      "source": [
        "from pyspark import SparkContext"
      ],
      "metadata": {
        "id": "u8-H64jKf_b_"
      },
      "execution_count": 2,
      "outputs": []
    },
    {
      "cell_type": "markdown",
      "source": [
        "#Criando um contexto para o Spark e colocando na variavel **sc**"
      ],
      "metadata": {
        "id": "g91gMlYflJIg"
      }
    },
    {
      "cell_type": "code",
      "source": [
        "sc = SparkContext()"
      ],
      "metadata": {
        "id": "2cxj1K2zfwK1"
      },
      "execution_count": 3,
      "outputs": []
    },
    {
      "cell_type": "markdown",
      "source": [
        "#Criando uma variavel com nossos dados fictícios"
      ],
      "metadata": {
        "id": "pmoo8yMclU2m"
      }
    },
    {
      "cell_type": "code",
      "source": [
        "data = [1, 2, 3, 4, 5]"
      ],
      "metadata": {
        "id": "F1saBPdUlcf2"
      },
      "execution_count": 4,
      "outputs": []
    },
    {
      "cell_type": "markdown",
      "source": [
        "#Criando nosso RDD\n",
        "com o a função **parallelize** onde passamos por parametro os nossos dados que podem ser uma lista como no exemplo, mas podem vir de várias fontes como arquivos"
      ],
      "metadata": {
        "id": "sx1KllIDldyA"
      }
    },
    {
      "cell_type": "code",
      "execution_count": 5,
      "metadata": {
        "id": "d5OtFLkBfkI6"
      },
      "outputs": [],
      "source": [
        "rdd = sc.parallelize(data)"
      ]
    },
    {
      "cell_type": "markdown",
      "source": [
        "#Operações de RDD podem ser do tipo ação ou do tipo transformação"
      ],
      "metadata": {
        "id": "6coyKZOrmKNY"
      }
    },
    {
      "cell_type": "markdown",
      "source": [
        "#Ação"
      ],
      "metadata": {
        "id": "8a0bhM7wm3QG"
      }
    },
    {
      "cell_type": "markdown",
      "source": [
        "##collect"
      ],
      "metadata": {
        "id": "7DYkZS7jm86u"
      }
    },
    {
      "cell_type": "markdown",
      "source": [
        "Equivalente ao **head** ou **display** no pandas"
      ],
      "metadata": {
        "id": "j_Imv6XPoyzS"
      }
    },
    {
      "cell_type": "code",
      "source": [
        "rdd.collect()"
      ],
      "metadata": {
        "colab": {
          "base_uri": "https://localhost:8080/"
        },
        "id": "DDgrZbeQoqmi",
        "outputId": "0f00d1d3-9cfd-4208-bed5-c4d60bc82aa8"
      },
      "execution_count": 6,
      "outputs": [
        {
          "output_type": "execute_result",
          "data": {
            "text/plain": [
              "[1, 2, 3, 4, 5]"
            ]
          },
          "metadata": {},
          "execution_count": 6
        }
      ]
    },
    {
      "cell_type": "markdown",
      "source": [
        "##reduce"
      ],
      "metadata": {
        "id": "c6BqYvadm4tY"
      }
    },
    {
      "cell_type": "markdown",
      "source": [
        "Equivalente ao **apply** do Pandas"
      ],
      "metadata": {
        "id": "9p_bpneKpE9J"
      }
    },
    {
      "cell_type": "code",
      "source": [
        "rdd.reduce(lambda x, y : x + y)"
      ],
      "metadata": {
        "colab": {
          "base_uri": "https://localhost:8080/"
        },
        "id": "w1QgUh77oCbz",
        "outputId": "fdcaee50-f3eb-41d9-80c7-186be9ead895"
      },
      "execution_count": 7,
      "outputs": [
        {
          "output_type": "execute_result",
          "data": {
            "text/plain": [
              "15"
            ]
          },
          "metadata": {},
          "execution_count": 7
        }
      ]
    },
    {
      "cell_type": "markdown",
      "source": [
        "##count"
      ],
      "metadata": {
        "id": "Y-ZUBuemnKle"
      }
    },
    {
      "cell_type": "markdown",
      "source": [
        "Equivalente ao count ou size no Pandas"
      ],
      "metadata": {
        "id": "Nsg4dtonr1O2"
      }
    },
    {
      "cell_type": "code",
      "source": [
        "rdd.count()"
      ],
      "metadata": {
        "colab": {
          "base_uri": "https://localhost:8080/"
        },
        "id": "afXHLJ-5rzQa",
        "outputId": "96128311-8a0e-415d-afdb-c39bb03f3ad5"
      },
      "execution_count": 8,
      "outputs": [
        {
          "output_type": "execute_result",
          "data": {
            "text/plain": [
              "5"
            ]
          },
          "metadata": {},
          "execution_count": 8
        }
      ]
    },
    {
      "cell_type": "markdown",
      "source": [
        "#Transformação"
      ],
      "metadata": {
        "id": "r3AKtrEPnS05"
      }
    },
    {
      "cell_type": "markdown",
      "source": [
        "##map"
      ],
      "metadata": {
        "id": "aRNe6zr3nZEO"
      }
    },
    {
      "cell_type": "markdown",
      "source": [
        "INPLACE= False"
      ],
      "metadata": {
        "id": "AVoLq-KLv9sr"
      }
    },
    {
      "cell_type": "code",
      "source": [
        "rdd_2 = rdd.map(lambda x: x + 10)"
      ],
      "metadata": {
        "id": "InG-zK_5rPgb"
      },
      "execution_count": 9,
      "outputs": []
    },
    {
      "cell_type": "code",
      "source": [
        "rdd_2.collect()"
      ],
      "metadata": {
        "colab": {
          "base_uri": "https://localhost:8080/"
        },
        "id": "4cTbhGccrd96",
        "outputId": "787a322e-e8a6-4bc4-da20-f96e888e7726"
      },
      "execution_count": 10,
      "outputs": [
        {
          "output_type": "execute_result",
          "data": {
            "text/plain": [
              "[11, 12, 13, 14, 15]"
            ]
          },
          "metadata": {},
          "execution_count": 10
        }
      ]
    },
    {
      "cell_type": "code",
      "source": [
        "rdd.collect()"
      ],
      "metadata": {
        "colab": {
          "base_uri": "https://localhost:8080/"
        },
        "id": "Csa6g6qRrZ-j",
        "outputId": "e2ce43d2-63d1-409d-d7ff-2330a6dfd3a8"
      },
      "execution_count": 11,
      "outputs": [
        {
          "output_type": "execute_result",
          "data": {
            "text/plain": [
              "[1, 2, 3, 4, 5]"
            ]
          },
          "metadata": {},
          "execution_count": 11
        }
      ]
    },
    {
      "cell_type": "markdown",
      "source": [
        "##filter"
      ],
      "metadata": {
        "id": "I2HCGjwvnbG1"
      }
    },
    {
      "cell_type": "code",
      "source": [
        "rdd_3 = rdd.filter(lambda x: x%2 == 0)\n",
        "rdd_3"
      ],
      "metadata": {
        "colab": {
          "base_uri": "https://localhost:8080/"
        },
        "id": "tvKCvTJ-rkgE",
        "outputId": "942d170c-8226-498a-b845-a74831086646"
      },
      "execution_count": 12,
      "outputs": [
        {
          "output_type": "execute_result",
          "data": {
            "text/plain": [
              "PythonRDD[4] at RDD at PythonRDD.scala:53"
            ]
          },
          "metadata": {},
          "execution_count": 12
        }
      ]
    },
    {
      "cell_type": "code",
      "source": [
        "rdd_3.collect()"
      ],
      "metadata": {
        "colab": {
          "base_uri": "https://localhost:8080/"
        },
        "id": "L0aziScFrtHb",
        "outputId": "cd2d85d4-afbf-4a9a-f1b9-cc57dc9cb118"
      },
      "execution_count": 13,
      "outputs": [
        {
          "output_type": "execute_result",
          "data": {
            "text/plain": [
              "[2, 4]"
            ]
          },
          "metadata": {},
          "execution_count": 13
        }
      ]
    },
    {
      "cell_type": "code",
      "source": [
        "rdd.collect()"
      ],
      "metadata": {
        "colab": {
          "base_uri": "https://localhost:8080/"
        },
        "id": "dA3oj9pXrwJt",
        "outputId": "2b5cbc53-ef32-478c-9f07-1e9e5f243ee4"
      },
      "execution_count": 14,
      "outputs": [
        {
          "output_type": "execute_result",
          "data": {
            "text/plain": [
              "[1, 2, 3, 4, 5]"
            ]
          },
          "metadata": {},
          "execution_count": 14
        }
      ]
    },
    {
      "cell_type": "markdown",
      "source": [
        "#Finalizando o contexto Spark"
      ],
      "metadata": {
        "id": "_fVMP6hJmzxK"
      }
    },
    {
      "cell_type": "code",
      "source": [
        "sc.stop()"
      ],
      "metadata": {
        "id": "pk3cBXyQ8_3C"
      },
      "execution_count": 15,
      "outputs": []
    }
  ]
}